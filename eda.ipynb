{
 "cells": [
  {
   "cell_type": "code",
   "execution_count": null,
   "metadata": {},
   "outputs": [],
   "source": [
    "from peft import PeftModel\n",
    "from transformers import AutoModelForCausalLM, AutoTokenizer\n",
    "\n",
    "base_model_name = \"Qwen/Qwen2.5-0.5B\" #path/to/your/model/or/name/on/hub\"\n",
    "adapter_model_name = \"adapter\"\n",
    "device = \"cuda\" # or \"cuda\" if you have a GPU\n",
    "\n",
    "model = AutoModelForCausalLM.from_pretrained(base_model_name).to(device)\n",
    "model = PeftModel.from_pretrained(model, adapter_model_name)\n",
    "tokenizer = AutoTokenizer.from_pretrained(base_model_name)"
   ]
  },
  {
   "cell_type": "code",
   "execution_count": null,
   "metadata": {},
   "outputs": [],
   "source": [
    "inputs = tokenizer.encode(\"What is glaucoma?\", return_tensors=\"pt\").to(device)\n",
    "outputs = model.generate(inputs)\n",
    "print(tokenizer.decode(outputs[0]))"
   ]
  },
  {
   "cell_type": "code",
   "execution_count": null,
   "metadata": {},
   "outputs": [],
   "source": [
    "# Initialize the DataProcessor with the path to the MLE screening dataset\n",
    "from data_processing import DataProcessor\n",
    "\n",
    "\n",
    "dp = DataProcessor(\"files/mle_screening_dataset.csv\")    \n",
    "\n",
    "# Load the datasets\n",
    "mle_set = dp.load_data_screening()\n",
    "# pub_set = dp.load_data_pubmedqa()\n",
    "\n",
    "# Concatenate datasets\n",
    "# dataset = dp.concatenate_datasets(mle_set, pub_set)\n",
    "\n",
    "# Split the dataset into training and validation sets\n",
    "train, validation, test = dp.train_test_validation_split(mle_set)\n",
    "# Add an 'id' column to each dataset\n",
    "train = train.map(lambda example, idx: {**example, \"id\": idx}, with_indices=True)\n",
    "validation = validation.map(lambda example, idx: {**example, \"id\": idx}, with_indices=True)\n",
    "test = test.map(lambda example, idx: {**example, \"id\": idx}, with_indices=True)\n",
    "train, validation, test = dp.format_dataset_for_conversational_ai(train), dp.format_dataset_for_conversational_ai(validation), dp.format_dataset_for_conversational_ai(test)"
   ]
  },
  {
   "cell_type": "code",
   "execution_count": null,
   "metadata": {},
   "outputs": [],
   "source": [
    "chat = [\n",
    "    {\"role\": \"system\", \"content\": \"You are helpful\"},\n",
    "    {\"role\": \"user\", \"content\": \"What is (are) Surviving Cancer ?\"},\n",
    "]\n",
    "\n",
    "import torch\n",
    "from transformers import pipeline\n",
    "\n",
    "pipeline = pipeline(task=\"text-generation\", model=\"qwen_0.5_mle/\", torch_dtype=torch.bfloat16, device_map=\"cuda\", tokenizer=tokenizer)\n",
    "# response = pipeline(chat, max_new_tokens=512)\n"
   ]
  },
  {
   "cell_type": "code",
   "execution_count": null,
   "metadata": {},
   "outputs": [],
   "source": [
    "from evaluate_model import evaluator\n",
    "\n",
    "task_evaluator = evaluator(\"text-generation\")\n",
    "results = task_evaluator.compute(\n",
    "    model_or_pipeline=pipeline,\n",
    "    data=validation.select(range(5)),\n",
    "    metric=[\"f1\", \"rouge\", \"bleu\"],\n",
    "    input_column=\"messages\",\n",
    ")\n",
    "print(results)"
   ]
  },
  {
   "cell_type": "code",
   "execution_count": null,
   "metadata": {},
   "outputs": [],
   "source": []
  }
 ],
 "metadata": {
  "kernelspec": {
   "display_name": "supportiv",
   "language": "python",
   "name": "python3"
  },
  "language_info": {
   "codemirror_mode": {
    "name": "ipython",
    "version": 3
   },
   "file_extension": ".py",
   "mimetype": "text/x-python",
   "name": "python",
   "nbconvert_exporter": "python",
   "pygments_lexer": "ipython3",
   "version": "3.12.9"
  }
 },
 "nbformat": 4,
 "nbformat_minor": 2
}
