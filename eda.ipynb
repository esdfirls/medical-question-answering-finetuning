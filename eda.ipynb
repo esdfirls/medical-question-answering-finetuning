{
 "cells": [
  {
   "cell_type": "code",
   "execution_count": null,
   "metadata": {},
   "outputs": [
    {
     "name": "stderr",
     "output_type": "stream",
     "text": [
      "/home/esdfirls/miniconda3/envs/supportiv/lib/python3.12/site-packages/tqdm/auto.py:21: TqdmWarning: IProgress not found. Please update jupyter and ipywidgets. See https://ipywidgets.readthedocs.io/en/stable/user_install.html\n",
      "  from .autonotebook import tqdm as notebook_tqdm\n",
      "Sliding Window Attention is enabled but not implemented for `sdpa`; unexpected results may be encountered.\n"
     ]
    }
   ],
   "source": [
    "from peft import PeftModel\n",
    "from transformers import AutoModelForCausalLM, AutoTokenizer\n",
    "\n",
    "base_model_name = \"Qwen/Qwen2.5-0.5B\" #path/to/your/model/or/name/on/hub\"\n",
    "adapter_model_name = \"opt\"\n",
    "device = \"cuda\" # or \"cuda\" if you have a GPU\n",
    "\n",
    "model = AutoModelForCausalLM.from_pretrained(base_model_name).to(device)\n",
    "model = PeftModel.from_pretrained(model, adapter_model_name)\n",
    "tokenizer = AutoTokenizer.from_pretrained(base_model_name)"
   ]
  },
  {
   "cell_type": "code",
   "execution_count": null,
   "metadata": {},
   "outputs": [],
   "source": [
    "inputs = tokenizer.encode(\"What is glaucoma?\", return_tensors=\"pt\").to(device)\n",
    "outputs = model.generate(inputs)\n",
    "print(tokenizer.decode(outputs[0]))"
   ]
  },
  {
   "cell_type": "code",
   "execution_count": 17,
   "metadata": {},
   "outputs": [
    {
     "name": "stderr",
     "output_type": "stream",
     "text": [
      "Map: 100%|██████████| 13284/13284 [00:00<00:00, 16850.36 examples/s]\n",
      "Map: 100%|██████████| 1476/1476 [00:00<00:00, 18357.23 examples/s]\n",
      "Map: 100%|██████████| 1641/1641 [00:00<00:00, 17995.89 examples/s]\n"
     ]
    }
   ],
   "source": [
    "# Initialize the DataProcessor with the path to the MLE screening dataset\n",
    "from data_processing import DataProcessor\n",
    "\n",
    "\n",
    "dp = DataProcessor(\"files/mle_screening_dataset.csv\")    \n",
    "\n",
    "# Load the datasets\n",
    "mle_set = dp.load_data_screening()\n",
    "# pub_set = dp.load_data_pubmedqa()\n",
    "\n",
    "# Concatenate datasets\n",
    "# dataset = dp.concatenate_datasets(mle_set, pub_set)\n",
    "\n",
    "# Split the dataset into training and validation sets\n",
    "train, validation, test = dp.train_test_validation_split(mle_set)\n",
    "# Add an 'id' column to each dataset\n",
    "train = train.map(lambda example, idx: {**example, \"id\": idx}, with_indices=True)\n",
    "validation = validation.map(lambda example, idx: {**example, \"id\": idx}, with_indices=True)\n",
    "test = test.map(lambda example, idx: {**example, \"id\": idx}, with_indices=True)\n",
    "# train, validation, test = dp.transform_dataset(train), dp.transform_dataset(validation), dp.transform_dataset(test)"
   ]
  },
  {
   "cell_type": "code",
   "execution_count": 14,
   "metadata": {},
   "outputs": [
    {
     "name": "stderr",
     "output_type": "stream",
     "text": [
      "Device set to use cuda:0\n"
     ]
    }
   ],
   "source": [
    "chat = [\n",
    "    {\"role\": \"system\", \"content\": \"You are helpful\"},\n",
    "    {\"role\": \"user\", \"content\": \"What is (are) Surviving Cancer ?\"},\n",
    "]\n",
    "\n",
    "import torch\n",
    "from transformers import pipeline\n",
    "\n",
    "pipeline = pipeline(task=\"text-generation\", model=\"qwen_0.5_mle/\", torch_dtype=torch.bfloat16, device_map=\"auto\", tokenizer=tokenizer)\n",
    "response = pipeline(chat, max_new_tokens=512)\n"
   ]
  },
  {
   "cell_type": "code",
   "execution_count": 15,
   "metadata": {},
   "outputs": [
    {
     "data": {
      "text/plain": [
       "[{'generated_text': [{'role': 'system', 'content': 'You are helpful'},\n",
       "   {'role': 'user', 'content': 'What is (are) Surviving Cancer ?'},\n",
       "   {'role': 'assistant',\n",
       "    'content': 'Surviving cancer is the ability to survive the disease. Surviving cancer is a very important goal for many people. It is also a goal for many cancer survivors. Surviving cancer means that the cancer has not spread to other parts of the body. It means that the cancer has not spread to the brain, bones, or other parts of the body. It means that the cancer has not spread to the lymph nodes, which are small, bean-shaped structures that are found throughout the body. It means that the cancer has not spread to the liver, spleen, or other organs. It means that the cancer has not spread to the lungs, bones, or other parts of the body. It means that the cancer has not spread to the brain, bones, or other parts of the body. It means that the cancer has not spread to the liver, spleen, or other organs. It means that the cancer has not spread to the lungs, bones, or other parts of the body. It means that the cancer has not spread to the brain, bones, or other parts of the body. It means that the cancer has not spread to the liver, spleen, or other organs. It means that the cancer has not spread to the lungs, bones, or other parts of the body. It means that the cancer has not spread to the brain, bones, or other parts of the body. It means that the cancer has not spread to the liver, spleen, or other organs. It means that the cancer has not spread to the lungs, bones, or other parts of the body. It means that the cancer has not spread to the brain, bones, or other parts of the body. It means that the cancer has not spread to the liver, spleen, or other organs. It means that the cancer has not spread to the lungs, bones, or other parts of the body. It means that the cancer has not spread to the brain, bones, or other parts of the body. It means that the cancer has not spread to the liver, spleen, or other organs. It means that the cancer has not spread to the lungs, bones, or other parts of the body. It means that the cancer has not spread to the brain, bones, or other parts of the body. It means that the cancer has not spread to the liver, spleen, or other organs. It means that the cancer has not spread to the lungs, bones, or other parts of the body. It means that the cancer has not spread'}]}]"
      ]
     },
     "execution_count": 15,
     "metadata": {},
     "output_type": "execute_result"
    }
   ],
   "source": [
    "response"
   ]
  },
  {
   "cell_type": "code",
   "execution_count": null,
   "metadata": {},
   "outputs": [],
   "source": [
    "from evaluate_model import evaluator\n",
    "\n",
    "task_evaluator = evaluator(\"text-generation\")\n",
    "results = task_evaluator.compute(\n",
    "    model_or_pipeline=pipeline,\n",
    "    data=validation,\n",
    "    metric=[\"f1\", \"rouge\", \"bleu\"],\n",
    "    input_column=\"question\",\n",
    "    label_column=\"answer\",\n",
    ")\n",
    "print(results)"
   ]
  },
  {
   "cell_type": "code",
   "execution_count": null,
   "metadata": {},
   "outputs": [],
   "source": []
  }
 ],
 "metadata": {
  "kernelspec": {
   "display_name": "supportiv",
   "language": "python",
   "name": "python3"
  },
  "language_info": {
   "codemirror_mode": {
    "name": "ipython",
    "version": 3
   },
   "file_extension": ".py",
   "mimetype": "text/x-python",
   "name": "python",
   "nbconvert_exporter": "python",
   "pygments_lexer": "ipython3",
   "version": "3.12.9"
  }
 },
 "nbformat": 4,
 "nbformat_minor": 2
}
